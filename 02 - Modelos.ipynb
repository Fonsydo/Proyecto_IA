{
 "cells": [
  {
   "cell_type": "code",
   "execution_count": null,
   "metadata": {},
   "outputs": [],
   "source": [
    "!git clone https://github.com/Fonsydo/Proyecto_IA.git"
   ]
  },
  {
   "cell_type": "code",
   "execution_count": null,
   "metadata": {},
   "outputs": [],
   "source": [
    "import pandas as pd\n",
    "from datetime import datetime\n",
    "import numpy as np"
   ]
  },
  {
   "cell_type": "code",
   "execution_count": null,
   "metadata": {},
   "outputs": [],
   "source": [
    "credits = pd.read_csv('/content/Proyecto_IA/the-movies-dataset/credits.csv')\n",
    "keywords = pd.read_csv('/content/Proyecto_IA/the-movies-dataset/keywords.csv')\n",
    "movies = pd.read_csv('/content/Proyecto_IA/the-movies-dataset/movies_metadata.csv', low_memory=False).\\\n",
    "                        drop(['belongs_to_collection', 'homepage', 'imdb_id', 'poster_path', 'status', 'title', 'video'], axis=1)\n",
    "\n",
    "movies['id'] = movies['id'].apply(pd.to_numeric, errors='coerce')\n",
    "movies.dropna(inplace=True)\n",
    "movies['id'] = movies['id'].astype('int64')\n",
    "\n",
    "df = movies.merge(keywords, on='id'). merge(credits, on='id')\n",
    "\n",
    "df['original_language'] = df['original_language'].fillna('')\n",
    "df['runtime'] = df['runtime'].fillna(0)\n",
    "df['tagline'] = df['tagline'].fillna('')\n",
    "\n",
    "df.dropna(inplace=True)\n",
    "df.head(5)"
   ]
  },
  {
   "cell_type": "code",
   "execution_count": null,
   "metadata": {},
   "outputs": [],
   "source": [
    "def get_text(text, obj='name'):\n",
    "    text = eval(text)\n",
    "    \n",
    "    if len(text) == 1:\n",
    "        for i in text:\n",
    "            return i[obj]\n",
    "    else:\n",
    "        s = []\n",
    "        for i in text:\n",
    "            s.append(i[obj])\n",
    "        return ', '.join(s)\n",
    "\n",
    "df['genres'] = df['genres'].apply(get_text)\n",
    "df['production_companies'] = df['production_companies'].apply(get_text)\n",
    "df['production_countries'] = df['production_countries'].apply(get_text)\n",
    "df['crew'] = df['crew'].apply(get_text)\n",
    "df['spoken_languages'] = df['spoken_languages'].apply(get_text)\n",
    "df['keywords'] = df['keywords'].apply(get_text)\n",
    "\n",
    "df['characters'] = df['cast'].apply(get_text, obj='character')\n",
    "df['actors'] = df['cast'].apply(get_text)\n",
    "\n",
    "df.drop('cast', axis=1, inplace=True)\n",
    "df = df[~df['original_title'].duplicated()]\n",
    "df = df.reset_index(drop=True)"
   ]
  },
  {
   "cell_type": "code",
   "execution_count": null,
   "metadata": {},
   "outputs": [],
   "source": [
    "ratings_df = pd.read_csv('the-movies-dataset/ratings.csv')\n",
    "\n",
    "ratings_df['date'] = ratings_df['timestamp'].apply(lambda x: datetime.fromtimestamp(x))\n",
    "ratings_df.drop('timestamp', axis=1, inplace=True)\n",
    "\n",
    "ratings_df = ratings_df.merge(df[['id', 'original_title', 'genres', 'overview']], left_on='movieId',right_on='id', how='left')\n",
    "ratings_df = ratings_df[~ratings_df['id'].isna()]\n",
    "ratings_df.drop('id', axis=1, inplace=True)\n",
    "ratings_df.reset_index(drop=True, inplace=True)\n",
    "ratings_df.head(5)"
   ]
  },
  {
   "cell_type": "code",
   "execution_count": null,
   "metadata": {},
   "outputs": [],
   "source": [
    "from sklearn.preprocessing import LabelEncoder\n",
    "\n",
    "user_encoder = LabelEncoder()\n",
    "mvoie_encoder = LabelEncoder()\n",
    "\n",
    "ratings_df['userId'] = user_encoder.fit_transform(ratings_df['userId'])\n",
    "ratings_df['movieId'] = mvoie_encoder.fit_transform(ratings_df['movieId'])\n",
    "\n",
    "ratings_df.head(5)"
   ]
  },
  {
   "cell_type": "code",
   "execution_count": null,
   "metadata": {},
   "outputs": [],
   "source": [
    "min_movie_ratings = 10000\n",
    "filter_movies = (ratings_df.groupby('movieId')['rating'].sum()>min_movie_ratings)\n",
    "filter_movies = filter_movies[filter_movies].index.tolist()\n",
    "\n",
    "min_user_ratings = 200\n",
    "filter_users = (ratings_df.groupby('userId')['rating'].sum()>min_user_ratings)\n",
    "filter_users = filter_users[filter_users].index.tolist()\n",
    "\n",
    "df_filterd = ratings_df[(ratings_df['movieId'].isin(filter_movies)) & (ratings_df['userId'].isin(filter_users))]\n",
    "\n",
    "print('Shape User-Ratings unfiltered:\\t{}'.format(ratings_df.shape))\n",
    "print('Shape User-Ratings filtered:\\t{}'.format(df_filterd.shape))"
   ]
  },
  {
   "cell_type": "code",
   "execution_count": null,
   "metadata": {},
   "outputs": [],
   "source": [
    "from sklearn.model_selection import train_test_split\n",
    "\n",
    "train_df, test_df = train_test_split(df_filterd, test_size=0.3)\n",
    "train_df.shape, test_df.shape"
   ]
  },
  {
   "cell_type": "code",
   "execution_count": null,
   "metadata": {},
   "outputs": [],
   "source": [
    "def get_model1(EMBEDDING_SIZE, NUM_MOVIES, NUM_USERS, ROW_COUNT):\n",
    "    from keras.layers import Input, Embedding, Dense, Dropout, Dot\n",
    "    from keras.models import Model\n",
    "\n",
    "    movie_input = Input(shape=(1,), name='movie_id')\n",
    "\n",
    "    movie_emb = Embedding(output_dim=EMBEDDING_SIZE, input_dim=NUM_MOVIES, input_length=ROW_COUNT, name='movie_emb')(movie_input)\n",
    "    \n",
    "    user_input = Input(shape=(1,), name='user_id')\n",
    "\n",
    "    user_emb = Embedding(output_dim=EMBEDDING_SIZE, input_dim=NUM_USERS, input_length=ROW_COUNT, name='user_emb')(user_input)\n",
    "    \n",
    "    merged = Dot(name = 'dot_product', normalize = True, axes = 2)([movie_emb, user_emb])\n",
    "    merged = Dropout(0.2)(merged)\n",
    "    \n",
    "    dense_1 = Dense(70,name='FullyConnected-1')(merged)\n",
    "    dropout_1 = Dropout(0.2,name='Dropout_1')(dense_1)\n",
    "\n",
    "    dense_2 = Dense(50,name='FullyConnected-2')(dropout_1)\n",
    "    dropout_2 = Dropout(0.2,name='Dropout_2')(dense_2)\n",
    "\n",
    "    dense_3 = Dense(20,name='FullyConnected-3')(dropout_2)\n",
    "    dropout_3 = Dropout(0.2,name='Dropout_3')(dense_3)\n",
    "\n",
    "    dense_4 = Dense(10,name='FullyConnected-4', activation='relu')(dropout_3)\n",
    "\n",
    "    result = Dense(1, name='result', activation=\"relu\") (dense_4)\n",
    "    model = Model([movie_input, user_input], result)\n",
    "    model.compile(loss='mse', optimizer='adam')\n",
    "    return model"
   ]
  },
  {
   "cell_type": "code",
   "execution_count": null,
   "metadata": {},
   "outputs": [],
   "source": [
    "ROW_COUNT = train_df.shape[0]\n",
    "EMBEDDING_SIZE = 10\n",
    "NUM_USERS = ratings_df['userId'].nunique()\n",
    "NUM_MOVIES = ratings_df['movieId'].nunique()\n",
    "UNIQUE_MOVIE_IDS = ratings_df['movieId'].unique()\n",
    "MOVIE_METADATA = ratings_df.groupby('movieId', as_index=False)[['original_title', 'genres', 'overview']].first()\n",
    "\n",
    "NUM_USERS, NUM_MOVIES, ROW_COUNT"
   ]
  },
  {
   "cell_type": "code",
   "execution_count": null,
   "metadata": {},
   "outputs": [],
   "source": [
    "model1 = get_model1(EMBEDDING_SIZE, NUM_MOVIES, NUM_USERS, ROW_COUNT)"
   ]
  },
  {
   "cell_type": "code",
   "execution_count": null,
   "metadata": {},
   "outputs": [],
   "source": [
    "from keras.utils.vis_utils import plot_model\n",
    "\n",
    "plot_model(model1, show_shapes=True, show_layer_names=True)"
   ]
  },
  {
   "cell_type": "code",
   "execution_count": null,
   "metadata": {},
   "outputs": [],
   "source": [
    "history1 = model1.fit([train_df['movieId'], train_df['userId']],\n",
    "          train_df['rating'],\n",
    "          batch_size=2048, \n",
    "          epochs=20,\n",
    "          validation_split=0.1,\n",
    "          shuffle=True)"
   ]
  },
  {
   "cell_type": "code",
   "execution_count": null,
   "metadata": {},
   "outputs": [],
   "source": [
    "from sklearn.metrics import mean_squared_error\n",
    "\n",
    "y_pred = model1.predict([test_df['movieId'], test_df['userId']]).reshape(-1)\n",
    "y_true = test_df['rating'].values\n",
    "\n",
    "#  Compute RMSE\n",
    "rmse = np.sqrt(mean_squared_error(y_pred=y_pred, y_true=y_true))\n",
    "print('\\n\\nTesting Result With Keras Matrix-Factorization: {:.4f} RMSE'.format(rmse))"
   ]
  },
  {
   "cell_type": "code",
   "execution_count": null,
   "metadata": {},
   "outputs": [],
   "source": [
    "def plot_loss(history):\n",
    "    import matplotlib.pyplot as plt\n",
    "\n",
    "    training_loss = history.history['loss']\n",
    "    test_loss = history.history['val_loss']\n",
    "\n",
    "    epoch_count = range(1, len(training_loss) + 1)\n",
    "\n",
    "    plt.figure(figsize = (8,4))\n",
    "    plt.grid()\n",
    "    plt.plot(epoch_count, training_loss, '--', color='#06837f')\n",
    "    plt.plot(epoch_count, test_loss, '-', color='#fed811')\n",
    "    plt.legend(['Training Loss', 'Test Loss'])\n",
    "    plt.xlabel('Epoch')\n",
    "    plt.ylabel('Loss')\n",
    "    plt.show()"
   ]
  },
  {
   "cell_type": "code",
   "execution_count": null,
   "metadata": {},
   "outputs": [],
   "source": [
    "plot_loss(history1)"
   ]
  },
  {
   "cell_type": "code",
   "execution_count": null,
   "metadata": {},
   "outputs": [],
   "source": [
    "tags = [i.split(\", \") for i in df['genres'].unique()]\n",
    "GENRES = list(set([i for lst in tags for i in lst]))\n",
    "GENRES.remove('')\n",
    "print(GENRES)"
   ]
  },
  {
   "cell_type": "code",
   "execution_count": null,
   "metadata": {},
   "outputs": [],
   "source": [
    "for col in GENRES:\n",
    "    train_df[col] = train_df[\"genres\"].apply(lambda x: 1 if col in x else 0)\n",
    "    test_df[col] = test_df[\"genres\"].apply(lambda x: 1 if col in x else 0)\n",
    "test_df.head()"
   ]
  },
  {
   "cell_type": "code",
   "execution_count": null,
   "metadata": {},
   "outputs": [],
   "source": [
    "def get_model2(EMBEDDING_SIZE, NUM_MOVIES, NUM_USERS, ROW_COUNT, NUM_GENRES):\n",
    "    from keras.layers import Input, Embedding, Dense, Dropout, Dot, Reshape, Concatenate\n",
    "    from keras.models import Model\n",
    "\n",
    "    movie_input = Input(shape=(1,), name='movie_id')\n",
    "\n",
    "    movie_emb = Embedding(output_dim=EMBEDDING_SIZE, input_dim=NUM_MOVIES, input_length=ROW_COUNT, name='movie_emb')(movie_input)\n",
    "\n",
    "    movie_res = Reshape(target_shape=(EMBEDDING_SIZE,), name='movie_res')(movie_emb)\n",
    "\n",
    "    user_input = Input(shape=(1,), name='user_id')\n",
    "\n",
    "    user_emb = Embedding(output_dim=EMBEDDING_SIZE, input_dim=NUM_USERS, input_length=ROW_COUNT, name='user_emb')(user_input)\n",
    "\n",
    "    user_res = Reshape(target_shape=(EMBEDDING_SIZE,), name='user_res')(user_emb)\n",
    "    \n",
    "    merged = Dot(name = 'dot_product', normalize = True, axes = 1)([movie_res, user_res])\n",
    "\n",
    "    #############################\n",
    "    genres_input = Input(shape=(NUM_GENRES,),name='genres')\n",
    "    dense_gen_1 = Dense(70,name='FullyConnected-gen_1')(genres_input)\n",
    "    dropout_gen_1 = Dropout(0.2,name='Dropout_gen_1')(dense_gen_1)\n",
    "\n",
    "    dense_gen_2 = Dense(50,name='FullyConnected-gen_2')(dropout_gen_1)\n",
    "    dropout_gen_2 = Dropout(0.2,name='Dropout_gen_2')(dense_gen_2)\n",
    "\n",
    "    dense_gen_3 = Dense(20,name='FullyConnected-gen_3')(dropout_gen_2)\n",
    "    dropout_gen_3 = Dropout(0.2,name='Dropout_gen_3')(dense_gen_3)\n",
    "\n",
    "    dense_gen_4 = Dense(10,name='FullyConnected-gen_4', activation='relu')(dropout_gen_3)\n",
    "    #############################\n",
    "\n",
    "    merged = Dropout(0.2)(merged)\n",
    "    \n",
    "    dense_1 = Dense(70,name='FullyConnected-1')(merged)\n",
    "    dropout_1 = Dropout(0.2,name='Dropout_1')(dense_1)\n",
    "\n",
    "    dense_2 = Dense(50,name='FullyConnected-2')(dropout_1)\n",
    "    dropout_2 = Dropout(0.2,name='Dropout_2')(dense_2)\n",
    "\n",
    "    dense_3 = Dense(20,name='FullyConnected-3')(dropout_2)\n",
    "    dropout_3 = Dropout(0.2,name='Dropout_3')(dense_3)\n",
    "\n",
    "    dense_4 = Dense(10,name='FullyConnected-4', activation='relu')(dropout_3)\n",
    "\n",
    "    concat = Concatenate()([dense_4, dense_gen_4])\n",
    "\n",
    "    result = Dense(1, name='result', activation=\"relu\") (concat)\n",
    "    model = Model([movie_input, user_input, genres_input], result)\n",
    "    model.compile(loss='mse', optimizer='adam')\n",
    "    return model"
   ]
  },
  {
   "cell_type": "code",
   "execution_count": null,
   "metadata": {},
   "outputs": [],
   "source": [
    "model2 = get_model2(EMBEDDING_SIZE, NUM_MOVIES, NUM_USERS, ROW_COUNT, len(GENRES))"
   ]
  },
  {
   "cell_type": "code",
   "execution_count": null,
   "metadata": {},
   "outputs": [],
   "source": [
    "plot_model(model2, show_shapes=True, show_layer_names=True)"
   ]
  },
  {
   "cell_type": "code",
   "execution_count": null,
   "metadata": {},
   "outputs": [],
   "source": [
    "history2 = model2.fit([train_df['movieId'], train_df['userId'], train_df[GENRES]],\n",
    "          train_df['rating'],\n",
    "          batch_size=2048, \n",
    "          epochs=20,\n",
    "          validation_split=0.1,\n",
    "          shuffle=True)"
   ]
  },
  {
   "cell_type": "code",
   "execution_count": null,
   "metadata": {},
   "outputs": [],
   "source": [
    "y_pred = model2.predict([test_df['movieId'], test_df['userId'], test_df[GENRES]]).reshape(-1)\n",
    "y_true = test_df['rating'].values\n",
    "\n",
    "rmse = np.sqrt(mean_squared_error(y_pred=y_pred, y_true=y_true))\n",
    "print('\\n\\nTesting Result With Keras Matrix-Factorization: {:.4f} RMSE'.format(rmse))"
   ]
  },
  {
   "cell_type": "code",
   "execution_count": null,
   "metadata": {},
   "outputs": [],
   "source": [
    "plot_loss(history2)"
   ]
  },
  {
   "cell_type": "code",
   "execution_count": null,
   "metadata": {},
   "outputs": [],
   "source": [
    "from sklearn.feature_extraction.text import TfidfVectorizer\n",
    "\n",
    "tfidf = TfidfVectorizer(max_features=200, stop_words='english', use_idf=True, ngram_range=(1,3))\n",
    "\n",
    "tfidf_hybrid = tfidf.fit_transform(MOVIE_METADATA['overview'].str.lower())"
   ]
  },
  {
   "cell_type": "code",
   "execution_count": null,
   "metadata": {},
   "outputs": [],
   "source": [
    "mapping = {id:i for i, id in enumerate(MOVIE_METADATA['movieId'])}\n",
    "tfidf_hybrid_array = tfidf_hybrid.toarray()\n",
    "\n",
    "train_tfidf = []\n",
    "\n",
    "for id in train_df['movieId'].values:\n",
    "    index = mapping[id]\n",
    "    train_tfidf.append(tfidf_hybrid_array[index])\n",
    "    \n",
    "test_tfidf = []\n",
    "for id in test_df['movieId'].values:\n",
    "    index = mapping[id]\n",
    "    test_tfidf.append(tfidf_hybrid_array[index])"
   ]
  },
  {
   "cell_type": "code",
   "execution_count": null,
   "metadata": {},
   "outputs": [],
   "source": [
    "train_tfidf = np.vstack(train_tfidf)\n",
    "test_tfidf = np.vstack(test_tfidf)\n",
    "NUM_TFIDF = train_tfidf.shape[1]"
   ]
  },
  {
   "cell_type": "code",
   "execution_count": null,
   "metadata": {},
   "outputs": [],
   "source": [
    "train_tfidf.shape, test_tfidf.shape"
   ]
  },
  {
   "cell_type": "code",
   "execution_count": null,
   "metadata": {},
   "outputs": [],
   "source": [
    "def get_model3(EMBEDDING_SIZE, NUM_MOVIES, NUM_USERS, ROW_COUNT, NUM_GENRES, NUM_TFIDF):\n",
    "    from keras.layers import Input, Embedding, Dense, Dropout, Dot, Reshape, Concatenate\n",
    "    from keras.models import Model\n",
    "\n",
    "    movie_input = Input(shape=(1,), name='movie_id')\n",
    "\n",
    "    movie_emb = Embedding(output_dim=EMBEDDING_SIZE, input_dim=NUM_MOVIES, input_length=ROW_COUNT, name='movie_emb')(movie_input)\n",
    "\n",
    "    movie_res = Reshape(target_shape=(EMBEDDING_SIZE,), name='movie_res')(movie_emb)\n",
    "\n",
    "    user_input = Input(shape=(1,), name='user_id')\n",
    "\n",
    "    user_emb = Embedding(output_dim=EMBEDDING_SIZE, input_dim=NUM_USERS, input_length=ROW_COUNT, name='user_emb')(user_input)\n",
    "\n",
    "    user_res = Reshape(target_shape=(EMBEDDING_SIZE,), name='user_res')(user_emb)\n",
    "    \n",
    "    merged = Dot(name = 'dot_product', normalize = True, axes = 1)([movie_res, user_res])\n",
    "\n",
    "    #############################\n",
    "\n",
    "    tfidf_input = Input(shape=(NUM_TFIDF,), name='tfidf', sparse=True)\n",
    "    dense_tfidf_1 = Dense(70,name='FullyConnected-tfidf_1')(tfidf_input)\n",
    "    dropout_tfidf_1 = Dropout(0.2,name='Dropout_tfidf_1')(dense_tfidf_1)\n",
    "\n",
    "    dense_tfidf_2 = Dense(50,name='FullyConnected-tfidf_2')(dropout_tfidf_1)\n",
    "    dropout_tfidf_2 = Dropout(0.2,name='Dropout_tfidf_2')(dense_tfidf_2)\n",
    "\n",
    "    dense_tfidf_3 = Dense(20,name='FullyConnected-tfidf_3')(dropout_tfidf_2)\n",
    "    dropout_tfidf_3 = Dropout(0.2,name='Dropout_tfidf_3')(dense_tfidf_3)\n",
    "\n",
    "    dense_tfidf_4 = Dense(10,name='FullyConnected-tfidf_4', activation='relu')(dropout_tfidf_3)\n",
    "\n",
    "    #############################\n",
    "    genres_input = Input(shape=(NUM_GENRES,),name='genres')\n",
    "    dense_gen_1 = Dense(70,name='FullyConnected-gen_1')(genres_input)\n",
    "    dropout_gen_1 = Dropout(0.2,name='Dropout_gen_1')(dense_gen_1)\n",
    "\n",
    "    dense_gen_2 = Dense(50,name='FullyConnected-gen_2')(dropout_gen_1)\n",
    "    dropout_gen_2 = Dropout(0.2,name='Dropout_gen_2')(dense_gen_2)\n",
    "\n",
    "    dense_gen_3 = Dense(20,name='FullyConnected-gen_3')(dropout_gen_2)\n",
    "    dropout_gen_3 = Dropout(0.2,name='Dropout_gen_3')(dense_gen_3)\n",
    "\n",
    "    dense_gen_4 = Dense(10,name='FullyConnected-gen_4', activation='relu')(dropout_gen_3)\n",
    "    #############################\n",
    "\n",
    "    merged = Dropout(0.2)(merged)\n",
    "    \n",
    "    dense_1 = Dense(70,name='FullyConnected-1')(merged)\n",
    "    dropout_1 = Dropout(0.2,name='Dropout_1')(dense_1)\n",
    "\n",
    "    dense_2 = Dense(50,name='FullyConnected-2')(dropout_1)\n",
    "    dropout_2 = Dropout(0.2,name='Dropout_2')(dense_2)\n",
    "\n",
    "    dense_3 = Dense(20,name='FullyConnected-3')(dropout_2)\n",
    "    dropout_3 = Dropout(0.2,name='Dropout_3')(dense_3)\n",
    "\n",
    "    dense_4 = Dense(10,name='FullyConnected-4', activation='relu')(dropout_3)\n",
    "\n",
    "    concat = Concatenate()([dense_4, dense_gen_4, dense_tfidf_4])\n",
    "\n",
    "    result = Dense(1, name='result', activation=\"relu\") (concat)\n",
    "    model = Model([movie_input, user_input, genres_input, tfidf_input], result)\n",
    "    model.compile(loss='mse', optimizer='adam')\n",
    "    return model"
   ]
  },
  {
   "cell_type": "code",
   "execution_count": null,
   "metadata": {},
   "outputs": [],
   "source": [
    "model3 = get_model3(EMBEDDING_SIZE, NUM_MOVIES, NUM_USERS, ROW_COUNT, len(GENRES), NUM_TFIDF)"
   ]
  },
  {
   "cell_type": "code",
   "execution_count": null,
   "metadata": {},
   "outputs": [],
   "source": [
    "plot_model(model3, show_shapes=True, show_layer_names=True)"
   ]
  },
  {
   "cell_type": "code",
   "execution_count": null,
   "metadata": {},
   "outputs": [],
   "source": [
    "history3 = model3.fit([train_df['movieId'], train_df['userId'], train_df[GENRES], train_tfidf],\n",
    "          train_df['rating'],\n",
    "          batch_size=2048, \n",
    "          epochs=20,\n",
    "          validation_split=0.1,\n",
    "          shuffle=True)"
   ]
  },
  {
   "cell_type": "code",
   "execution_count": null,
   "metadata": {},
   "outputs": [],
   "source": [
    "y_pred = model3.predict([test_df['movieId'], test_df['userId'], test_df[GENRES], test_tfidf]).reshape(-1)\n",
    "y_true = test_df['rating'].values\n",
    "\n",
    "rmse = np.sqrt(mean_squared_error(y_pred=y_pred, y_true=y_true))\n",
    "print('\\n\\nTesting Result With Keras Matrix-Factorization: {:.4f} RMSE'.format(rmse))"
   ]
  },
  {
   "cell_type": "code",
   "execution_count": null,
   "metadata": {},
   "outputs": [],
   "source": [
    "plot_loss(history3)"
   ]
  },
  {
   "cell_type": "code",
   "execution_count": null,
   "metadata": {},
   "outputs": [],
   "source": [
    "def recommend_movies(user, model, topN = 5):\n",
    "\n",
    "    type_layers = [x.__class__.__name__ for x in model.layers]\n",
    "    len_input_layer = type_layers.count('InputLayer')\n",
    "\n",
    "    if len_input_layer == 2:\n",
    "        pred = model.predict([np.ones(len(UNIQUE_MOVIE_IDS))*user, UNIQUE_MOVIE_IDS]).reshape(-1)\n",
    "        pred_value = np.sort(pred)[::-1]\n",
    "        pred = np.argsort(pred)[::-1]\n",
    "\n",
    "    \n",
    "    if len_input_layer == 3:\n",
    "        aux = MOVIE_METADATA.copy()\n",
    "\n",
    "        for col in GENRES:\n",
    "            aux[col] = MOVIE_METADATA[\"genres\"].apply(lambda x: 1 if col in x else 0)\n",
    "        \n",
    "        pred = model.predict([np.ones(len(UNIQUE_MOVIE_IDS))*user, UNIQUE_MOVIE_IDS, aux[GENRES]]).reshape(-1)\n",
    "        pred_value = np.sort(pred)[::-1]\n",
    "        pred = np.argsort(pred)[::-1]\n",
    "\n",
    "    if len_input_layer == 4:\n",
    "\n",
    "        aux = MOVIE_METADATA.copy()\n",
    "\n",
    "        for col in GENRES:\n",
    "            aux[col] = MOVIE_METADATA[\"genres\"].apply(lambda x: 1 if col in x else 0)\n",
    "        \n",
    "        mapping = {id:i for i, id in enumerate(MOVIE_METADATA['movieId'])}\n",
    "        tfidf_hybrid_array = tfidf_hybrid.toarray()\n",
    "            \n",
    "        tfidf = []\n",
    "        for id in MOVIE_METADATA['movieId'].values:\n",
    "            index = mapping[id]\n",
    "            tfidf.append(tfidf_hybrid_array[index])\n",
    "\n",
    "        pred = model.predict([np.ones(len(UNIQUE_MOVIE_IDS))*user, UNIQUE_MOVIE_IDS, aux[GENRES], np.array(tfidf)]).reshape(-1)\n",
    "        pred_value = np.sort(pred)[::-1]\n",
    "        pred = np.argsort(pred)[::-1]\n",
    "    \n",
    "    movies_seen = list(ratings_df[ratings_df['userId']==user]['movieId'])\n",
    "    \n",
    "    cont, pos = 0, 0\n",
    "    top_pred = []\n",
    "    top_pred_value = []\n",
    "    while cont < topN:\n",
    "        if pred[pos] not in movies_seen:\n",
    "            top_pred.append(pred[pos])\n",
    "            top_pred_value.append(pred_value[pos])\n",
    "            cont+=1\n",
    "        pos+=1\n",
    "\n",
    "    df_indices = pd.DataFrame({'movieId':top_pred, 'rating_pred':top_pred_value})\n",
    "    return df_indices.merge(MOVIE_METADATA,on='movieId')"
   ]
  },
  {
   "cell_type": "code",
   "execution_count": null,
   "metadata": {},
   "outputs": [],
   "source": [
    "recommend_movies(11, model1)"
   ]
  },
  {
   "cell_type": "code",
   "execution_count": null,
   "metadata": {},
   "outputs": [],
   "source": [
    "recommend_movies(11, model2)"
   ]
  },
  {
   "cell_type": "code",
   "execution_count": null,
   "metadata": {},
   "outputs": [],
   "source": [
    "recommend_movies(11, model3)"
   ]
  },
  {
   "cell_type": "code",
   "execution_count": null,
   "metadata": {},
   "outputs": [],
   "source": [
    "def plot_losses(histories):\n",
    "    import matplotlib.pyplot as plt\n",
    "\n",
    "    plt.figure(figsize = (6,6))\n",
    "    plt.suptitle('Training losses', fontsize=14, weight=600, color='#333d29')\n",
    "    \n",
    "    for i, history in enumerate(histories):\n",
    "        training_loss = history.history['loss']\n",
    "        test_loss = history.history['val_loss']\n",
    "\n",
    "        epoch_count = range(1, len(training_loss) + 1)\n",
    "        plt.subplot(len(histories),1,i+1)\n",
    "        plt.grid()\n",
    "        plt.plot(epoch_count, training_loss, '--', color='#06837f')\n",
    "        plt.plot(epoch_count, test_loss, '-', color='#fed811')\n",
    "        plt.legend(['Training Loss', 'Test Loss'])\n",
    "        plt.title(f'Model {i+1}')\n",
    "        plt.xlabel('Epoch')\n",
    "        plt.ylabel('Loss')\n",
    "    plt.tight_layout(pad=0.7)"
   ]
  },
  {
   "cell_type": "code",
   "execution_count": null,
   "metadata": {},
   "outputs": [],
   "source": [
    "plot_losses([history1, history2, history3])"
   ]
  }
 ],
 "metadata": {
  "language_info": {
   "name": "python"
  },
  "orig_nbformat": 4
 },
 "nbformat": 4,
 "nbformat_minor": 2
}
