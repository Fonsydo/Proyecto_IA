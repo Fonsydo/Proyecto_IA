{
  "cells": [
    {
      "cell_type": "markdown",
      "source": [
        "<a href=\"https://colab.research.google.com/drive/1tx5iDzZix9Wi2Ma1xTXYkUJ1fY8gwcIU#scrollTo=esOiLvqPMb2E\">\n",
        "  <img src=\"https://colab.research.google.com/assets/colab-badge.svg\" alt=\"Open In Colab\"/>\n",
        "</a>"
      ],
      "metadata": {
        "id": "bne_tTsTqpzN"
      },
      "id": "bne_tTsTqpzN"
    },
    {
      "cell_type": "code",
      "source": [
        "!git clone https://github.com/Fonsydo/Proyecto_IA.git"
      ],
      "metadata": {
        "colab": {
          "base_uri": "https://localhost:8080/"
        },
        "id": "npfukPRW0mpS",
        "outputId": "53009baa-3528-47a8-87e0-2c03d0e61016"
      },
      "id": "npfukPRW0mpS",
      "execution_count": null,
      "outputs": [
        {
          "output_type": "stream",
          "name": "stdout",
          "text": [
            "Cloning into 'Proyecto_IA'...\n",
            "remote: Enumerating objects: 73, done.\u001b[K\n",
            "remote: Counting objects: 100% (73/73), done.\u001b[K\n",
            "remote: Compressing objects: 100% (59/59), done.\u001b[K\n",
            "remote: Total 73 (delta 23), reused 37 (delta 9), pack-reused 0\u001b[K\n",
            "Unpacking objects: 100% (73/73), 2.86 MiB | 2.89 MiB/s, done.\n",
            "Filtering content: 100% (7/7), 900.04 MiB | 7.67 MiB/s, done.\n"
          ]
        }
      ]
    },
    {
      "cell_type": "markdown",
      "id": "esOiLvqPMb2E",
      "metadata": {
        "id": "esOiLvqPMb2E"
      },
      "source": [
        "# Inteligencia Artificial para las Ciencias e Ingenierías\n",
        "## Proyecto Sistema de Recomendación de Películas\n",
        "### Miembros del grupo\n",
        "* Fonsy Johan Mercado Agudelo, CC 1020472932, Ingeniería eléctrica\n",
        "* Orlando José Salazar Polo, CC 1152714311, Ingeniería eléctrica\n",
        "* Angie Dayana Rincón Mandón, CC 1091681348, Ingeniería eléctrica\n",
        "\n",
        "### Exploración de datos\n"
      ]
    },
    {
      "cell_type": "code",
      "execution_count": null,
      "id": "6d187074",
      "metadata": {
        "id": "6d187074"
      },
      "outputs": [],
      "source": [
        "import pandas as pd\n",
        "import numpy as np\n",
        "import seaborn as sns\n",
        "import matplotlib.pyplot as plt\n",
        "from collections import Counter\n",
        "from sklearn import linear_model\n",
        "from wordcloud import WordCloud"
      ]
    },
    {
      "cell_type": "markdown",
      "id": "e4b2901c",
      "metadata": {
        "id": "e4b2901c"
      },
      "source": [
        "### The movies dataset\n",
        "Para el desarrollo de este proyecto se seleccionó el dataset [The Movies Dataset](https://www.kaggle.com/datasets/rounakbanik/the-movies-dataset) proporcionado en kaggle, estos archivos contienen metadatos de 45.000 películas enumeradas en el conjunto de datos completo de MovieLens. Este conjunto de datos también tiene archivos que contienen 26 millones de calificaciones de 270.000 usuarios para las 45.000 películas. Las calificaciones están en una escala de 1 a 5 y se han obtenido del sitio web oficial de GroupLens.\n",
        "\n",
        "El dataset tiene un total de 900 MB y contiene los siguientes archivos .csv\n",
        "\n",
        "- **movies_metadata.csv**: Archivo principal de metadatos de películas, contiene información de 45000 películas incluyendo carteles, fondos, presupuesto, ingresos, fechas de lanzamiento, idiomas, países de producción y empresas.\n",
        "\n",
        "- **keywords.csv**: Contiene las palabras clave de la trama de la película en forma de un objeto JSON en cadena.\n",
        "\n",
        "- **credits.csv**: Contiene información sobre el reparto y equipo técnico de las películas en forma de objeto JSON en cadena.\n",
        "\n",
        "- **links.csv**: Contiene los ID de TMDB e IMDB de las películas que aparecen en el conjunto de datos de MovieLens.\n",
        "\n",
        "- **links_small.csv**: Contiene los ID de TMDB e IMDB de un subconjunto de 9.000 películas del conjunto de datos completo.\n",
        "\n",
        "- **ratings_small.csv** El subconjunto de 100.000 calificaciones de 700 usuarios en 9.000 películas"
      ]
    },
    {
      "cell_type": "code",
      "execution_count": null,
      "id": "2d874af3",
      "metadata": {
        "id": "2d874af3"
      },
      "outputs": [],
      "source": [
        "credits = pd.read_csv('/content/Proyecto_IA/the-movies-dataset/credits.csv')\n",
        "keywords = pd.read_csv('/content/Proyecto_IA/the-movies-dataset/keywords.csv')\n",
        "movies = pd.read_csv('/content/Proyecto_IA/the-movies-dataset/movies_metadata.csv', low_memory=False).\\\n",
        "                        drop(['belongs_to_collection', 'homepage', 'imdb_id', 'poster_path', 'status', 'title', 'video'], axis=1)\n",
        "\n",
        "movies['id'] = movies['id'].apply(pd.to_numeric, errors='coerce')\n",
        "movies.dropna(inplace=True)\n",
        "movies['id'] = movies['id'].astype('int64')\n",
        "\n",
        "df = movies.merge(keywords, on='id'). merge(credits, on='id')\n",
        "\n",
        "df['original_language'] = df['original_language'].fillna('')\n",
        "df['runtime'] = df['runtime'].fillna(0)\n",
        "df['tagline'] = df['tagline'].fillna('')\n",
        "\n",
        "df.dropna(inplace=True)"
      ]
    },
    {
      "cell_type": "code",
      "execution_count": null,
      "id": "188496e9",
      "metadata": {
        "id": "188496e9",
        "colab": {
          "base_uri": "https://localhost:8080/",
          "height": 350
        },
        "outputId": "fbb31498-fb78-4fd1-9cb2-ec06530d0e63"
      },
      "outputs": [
        {
          "output_type": "execute_result",
          "data": {
            "text/plain": [
              "       adult budget                                             genres     id  \\\n",
              "19866  False      0                    [{'id': 37, 'name': 'Western'}]  31390   \n",
              "1934   False      0  [{'id': 35, 'name': 'Comedy'}, {'id': 18, 'nam...  31342   \n",
              "\n",
              "      original_language    original_title  \\\n",
              "19866                en  Brothers in Arms   \n",
              "1934                 en   The Love Letter   \n",
              "\n",
              "                                                overview popularity  \\\n",
              "19866                   Old West. New Soul. Big Payback.   1.061451   \n",
              "1934   A romantic comedy about a mysterious love lett...   2.012283   \n",
              "\n",
              "                                    production_companies  \\\n",
              "19866                                                 []   \n",
              "1934   [{'name': 'DreamWorks SKG', 'id': 27}, {'name'...   \n",
              "\n",
              "                                    production_countries release_date  \\\n",
              "19866  [{'iso_3166_1': 'US', 'name': 'United States o...   2005-01-01   \n",
              "1934   [{'iso_3166_1': 'US', 'name': 'United States o...   1999-05-21   \n",
              "\n",
              "       revenue  runtime                          spoken_languages  \\\n",
              "19866      0.0     85.0  [{'iso_639_1': 'en', 'name': 'English'}]   \n",
              "1934       0.0     88.0  [{'iso_639_1': 'en', 'name': 'English'}]   \n",
              "\n",
              "                                                 tagline  vote_average  \\\n",
              "19866                              A revisionist western           2.7   \n",
              "1934   No one knows who sent it. No one knows who it'...           5.9   \n",
              "\n",
              "       vote_count                                           keywords  \\\n",
              "19866         5.0  [{'id': 155291, 'name': 'cowboy'}, {'id': 1889...   \n",
              "1934         17.0  [{'id': 3452, 'name': 'love letter'}, {'id': 1...   \n",
              "\n",
              "                                                    cast  \\\n",
              "19866  [{'cast_id': 1, 'character': 'Driscoll', 'cred...   \n",
              "1934   [{'cast_id': 1, 'character': 'Helen', 'credit_...   \n",
              "\n",
              "                                                    crew  \n",
              "19866  [{'credit_id': '52fe44799251416c9101200b', 'de...  \n",
              "1934   [{'credit_id': '52fe44769251416c910117ed', 'de...  "
            ],
            "text/html": [
              "\n",
              "  <div id=\"df-99636dd9-ac09-4d1e-b604-6845d11e7bee\">\n",
              "    <div class=\"colab-df-container\">\n",
              "      <div>\n",
              "<style scoped>\n",
              "    .dataframe tbody tr th:only-of-type {\n",
              "        vertical-align: middle;\n",
              "    }\n",
              "\n",
              "    .dataframe tbody tr th {\n",
              "        vertical-align: top;\n",
              "    }\n",
              "\n",
              "    .dataframe thead th {\n",
              "        text-align: right;\n",
              "    }\n",
              "</style>\n",
              "<table border=\"1\" class=\"dataframe\">\n",
              "  <thead>\n",
              "    <tr style=\"text-align: right;\">\n",
              "      <th></th>\n",
              "      <th>adult</th>\n",
              "      <th>budget</th>\n",
              "      <th>genres</th>\n",
              "      <th>id</th>\n",
              "      <th>original_language</th>\n",
              "      <th>original_title</th>\n",
              "      <th>overview</th>\n",
              "      <th>popularity</th>\n",
              "      <th>production_companies</th>\n",
              "      <th>production_countries</th>\n",
              "      <th>release_date</th>\n",
              "      <th>revenue</th>\n",
              "      <th>runtime</th>\n",
              "      <th>spoken_languages</th>\n",
              "      <th>tagline</th>\n",
              "      <th>vote_average</th>\n",
              "      <th>vote_count</th>\n",
              "      <th>keywords</th>\n",
              "      <th>cast</th>\n",
              "      <th>crew</th>\n",
              "    </tr>\n",
              "  </thead>\n",
              "  <tbody>\n",
              "    <tr>\n",
              "      <th>19866</th>\n",
              "      <td>False</td>\n",
              "      <td>0</td>\n",
              "      <td>[{'id': 37, 'name': 'Western'}]</td>\n",
              "      <td>31390</td>\n",
              "      <td>en</td>\n",
              "      <td>Brothers in Arms</td>\n",
              "      <td>Old West. New Soul. Big Payback.</td>\n",
              "      <td>1.061451</td>\n",
              "      <td>[]</td>\n",
              "      <td>[{'iso_3166_1': 'US', 'name': 'United States o...</td>\n",
              "      <td>2005-01-01</td>\n",
              "      <td>0.0</td>\n",
              "      <td>85.0</td>\n",
              "      <td>[{'iso_639_1': 'en', 'name': 'English'}]</td>\n",
              "      <td>A revisionist western</td>\n",
              "      <td>2.7</td>\n",
              "      <td>5.0</td>\n",
              "      <td>[{'id': 155291, 'name': 'cowboy'}, {'id': 1889...</td>\n",
              "      <td>[{'cast_id': 1, 'character': 'Driscoll', 'cred...</td>\n",
              "      <td>[{'credit_id': '52fe44799251416c9101200b', 'de...</td>\n",
              "    </tr>\n",
              "    <tr>\n",
              "      <th>1934</th>\n",
              "      <td>False</td>\n",
              "      <td>0</td>\n",
              "      <td>[{'id': 35, 'name': 'Comedy'}, {'id': 18, 'nam...</td>\n",
              "      <td>31342</td>\n",
              "      <td>en</td>\n",
              "      <td>The Love Letter</td>\n",
              "      <td>A romantic comedy about a mysterious love lett...</td>\n",
              "      <td>2.012283</td>\n",
              "      <td>[{'name': 'DreamWorks SKG', 'id': 27}, {'name'...</td>\n",
              "      <td>[{'iso_3166_1': 'US', 'name': 'United States o...</td>\n",
              "      <td>1999-05-21</td>\n",
              "      <td>0.0</td>\n",
              "      <td>88.0</td>\n",
              "      <td>[{'iso_639_1': 'en', 'name': 'English'}]</td>\n",
              "      <td>No one knows who sent it. No one knows who it'...</td>\n",
              "      <td>5.9</td>\n",
              "      <td>17.0</td>\n",
              "      <td>[{'id': 3452, 'name': 'love letter'}, {'id': 1...</td>\n",
              "      <td>[{'cast_id': 1, 'character': 'Helen', 'credit_...</td>\n",
              "      <td>[{'credit_id': '52fe44769251416c910117ed', 'de...</td>\n",
              "    </tr>\n",
              "  </tbody>\n",
              "</table>\n",
              "</div>\n",
              "      <button class=\"colab-df-convert\" onclick=\"convertToInteractive('df-99636dd9-ac09-4d1e-b604-6845d11e7bee')\"\n",
              "              title=\"Convert this dataframe to an interactive table.\"\n",
              "              style=\"display:none;\">\n",
              "        \n",
              "  <svg xmlns=\"http://www.w3.org/2000/svg\" height=\"24px\"viewBox=\"0 0 24 24\"\n",
              "       width=\"24px\">\n",
              "    <path d=\"M0 0h24v24H0V0z\" fill=\"none\"/>\n",
              "    <path d=\"M18.56 5.44l.94 2.06.94-2.06 2.06-.94-2.06-.94-.94-2.06-.94 2.06-2.06.94zm-11 1L8.5 8.5l.94-2.06 2.06-.94-2.06-.94L8.5 2.5l-.94 2.06-2.06.94zm10 10l.94 2.06.94-2.06 2.06-.94-2.06-.94-.94-2.06-.94 2.06-2.06.94z\"/><path d=\"M17.41 7.96l-1.37-1.37c-.4-.4-.92-.59-1.43-.59-.52 0-1.04.2-1.43.59L10.3 9.45l-7.72 7.72c-.78.78-.78 2.05 0 2.83L4 21.41c.39.39.9.59 1.41.59.51 0 1.02-.2 1.41-.59l7.78-7.78 2.81-2.81c.8-.78.8-2.07 0-2.86zM5.41 20L4 18.59l7.72-7.72 1.47 1.35L5.41 20z\"/>\n",
              "  </svg>\n",
              "      </button>\n",
              "      \n",
              "  <style>\n",
              "    .colab-df-container {\n",
              "      display:flex;\n",
              "      flex-wrap:wrap;\n",
              "      gap: 12px;\n",
              "    }\n",
              "\n",
              "    .colab-df-convert {\n",
              "      background-color: #E8F0FE;\n",
              "      border: none;\n",
              "      border-radius: 50%;\n",
              "      cursor: pointer;\n",
              "      display: none;\n",
              "      fill: #1967D2;\n",
              "      height: 32px;\n",
              "      padding: 0 0 0 0;\n",
              "      width: 32px;\n",
              "    }\n",
              "\n",
              "    .colab-df-convert:hover {\n",
              "      background-color: #E2EBFA;\n",
              "      box-shadow: 0px 1px 2px rgba(60, 64, 67, 0.3), 0px 1px 3px 1px rgba(60, 64, 67, 0.15);\n",
              "      fill: #174EA6;\n",
              "    }\n",
              "\n",
              "    [theme=dark] .colab-df-convert {\n",
              "      background-color: #3B4455;\n",
              "      fill: #D2E3FC;\n",
              "    }\n",
              "\n",
              "    [theme=dark] .colab-df-convert:hover {\n",
              "      background-color: #434B5C;\n",
              "      box-shadow: 0px 1px 3px 1px rgba(0, 0, 0, 0.15);\n",
              "      filter: drop-shadow(0px 1px 2px rgba(0, 0, 0, 0.3));\n",
              "      fill: #FFFFFF;\n",
              "    }\n",
              "  </style>\n",
              "\n",
              "      <script>\n",
              "        const buttonEl =\n",
              "          document.querySelector('#df-99636dd9-ac09-4d1e-b604-6845d11e7bee button.colab-df-convert');\n",
              "        buttonEl.style.display =\n",
              "          google.colab.kernel.accessAllowed ? 'block' : 'none';\n",
              "\n",
              "        async function convertToInteractive(key) {\n",
              "          const element = document.querySelector('#df-99636dd9-ac09-4d1e-b604-6845d11e7bee');\n",
              "          const dataTable =\n",
              "            await google.colab.kernel.invokeFunction('convertToInteractive',\n",
              "                                                     [key], {});\n",
              "          if (!dataTable) return;\n",
              "\n",
              "          const docLinkHtml = 'Like what you see? Visit the ' +\n",
              "            '<a target=\"_blank\" href=https://colab.research.google.com/notebooks/data_table.ipynb>data table notebook</a>'\n",
              "            + ' to learn more about interactive tables.';\n",
              "          element.innerHTML = '';\n",
              "          dataTable['output_type'] = 'display_data';\n",
              "          await google.colab.output.renderOutput(dataTable, element);\n",
              "          const docLink = document.createElement('div');\n",
              "          docLink.innerHTML = docLinkHtml;\n",
              "          element.appendChild(docLink);\n",
              "        }\n",
              "      </script>\n",
              "    </div>\n",
              "  </div>\n",
              "  "
            ]
          },
          "metadata": {},
          "execution_count": 85
        }
      ],
      "source": [
        "df.sample(2)"
      ]
    },
    {
      "cell_type": "code",
      "execution_count": null,
      "id": "6d8381c9",
      "metadata": {
        "id": "6d8381c9"
      },
      "outputs": [],
      "source": [
        "def get_text(text, obj='name'):\n",
        "    text = eval(text)\n",
        "    \n",
        "    if len(text) == 1:\n",
        "        for i in text:\n",
        "            return i[obj]\n",
        "    else:\n",
        "        s = []\n",
        "        for i in text:\n",
        "            s.append(i[obj])\n",
        "        return ', '.join(s)\n",
        "    \n",
        "df['genres'] = df['genres'].apply(get_text)\n",
        "df['production_companies'] = df['production_companies'].apply(get_text)\n",
        "df['production_countries'] = df['production_countries'].apply(get_text)\n",
        "df['crew'] = df['crew'].apply(get_text)\n",
        "df['spoken_languages'] = df['spoken_languages'].apply(get_text)\n",
        "df['keywords'] = df['keywords'].apply(get_text)\n",
        "\n",
        "df['characters'] = df['cast'].apply(get_text, obj='character')\n",
        "df['actors'] = df['cast'].apply(get_text)\n",
        "\n",
        "df['release_date'] = pd.to_datetime(df['release_date'])\n",
        "df['budget'] = df['budget'].astype('float64')\n",
        "df['popularity'] = df['popularity'].astype('float64')\n",
        "\n",
        "df.drop('cast', axis=1, inplace=True)\n",
        "df = df[~df['original_title'].duplicated()]\n",
        "df = df.reset_index(drop=True)"
      ]
    },
    {
      "cell_type": "code",
      "execution_count": null,
      "id": "46d1b6f1",
      "metadata": {
        "id": "46d1b6f1"
      },
      "outputs": [],
      "source": [
        "df.head()"
      ]
    },
    {
      "cell_type": "code",
      "execution_count": null,
      "id": "466cc5f7",
      "metadata": {
        "id": "466cc5f7"
      },
      "outputs": [],
      "source": [
        "df_plot = df[(df['revenue']!=0) & (df['budget']!=0)]\n",
        "\n",
        "regr = linear_model.LinearRegression()\n",
        "\n",
        "plt.figure(figsize=(8,5))\n",
        "plt.suptitle('The Influence of Budget and Revenue\\non Popularity of Movies', fontsize=14, weight=600, color='#333d29')\n",
        "\n",
        "for i, col in enumerate(['budget', 'revenue']):\n",
        "    regr.fit(np.array(df_plot[col]).reshape(-1,1), df_plot['popularity'].values)\n",
        "    plt.subplot(2,1,i+1)\n",
        "    plt.grid()\n",
        "    plt.scatter(df_plot[col], df_plot['popularity'], alpha=.4, s=100, color='#06837f')\n",
        "    plt.plot(df_plot[col], df_plot[col]*regr.coef_[0]+regr.intercept_, color='#fed811')\n",
        "    plt.xlabel(col)\n",
        "    plt.ylabel('popularity')\n",
        "plt.tight_layout(pad=0.7);"
      ]
    },
    {
      "cell_type": "code",
      "execution_count": null,
      "id": "b84d4704",
      "metadata": {
        "id": "b84d4704"
      },
      "outputs": [],
      "source": [
        "plt.figure(figsize=(20,20))\n",
        "plt.title('The Most Common Word in Movie Overviews\\n', fontsize=30, weight=600, color='#333d29')\n",
        "wc = WordCloud(max_words=1000, min_font_size=10,\n",
        "                height=700,width=1500,background_color=\"white\").generate(' '.join(df['overview']))\n",
        "plt.axis('off')\n",
        "plt.imshow(wc)"
      ]
    },
    {
      "cell_type": "code",
      "execution_count": null,
      "id": "f8581212",
      "metadata": {
        "id": "f8581212"
      },
      "outputs": [],
      "source": [
        "genres_list = []\n",
        "for i in df['genres']:\n",
        "    genres_list.extend(i.split(', '))\n",
        "\n",
        "fig, axes = plt.subplots(nrows=1, ncols=2, figsize=(14,6))\n",
        "\n",
        "df_plot = pd.DataFrame(Counter(genres_list).most_common(5), columns=['genre', 'total'])\n",
        "ax = sns.barplot(data=df_plot, x='genre', y='total', ax=axes[0], palette=['#06837f', '#02cecb', '#b4ffff', '#f8e16c', '#fed811'])\n",
        "ax.set_title('Top 5 Genres in Movies', fontsize=18, weight=600, color='#333d29')\n",
        "sns.despine()\n",
        "\n",
        "df_plot_full = pd.DataFrame([Counter(genres_list)]).transpose().sort_values(by=0, ascending=False)\n",
        "df_plot.loc[len(df_plot)] = {'genre': 'Others', 'total':df_plot_full[6:].sum()[0]}\n",
        "plt.title('Percentage Ratio of Movie Genres', fontsize=18, weight=600, color='#333d29')\n",
        "wedges, texts, autotexts = axes[1].pie(x=df_plot['total'], labels=df_plot['genre'], autopct='%.2f%%',\n",
        "                                       textprops=dict(fontsize=14), explode=[0.1,0,0,0,0,0], colors=['#06837f', '#02cecb', '#b4ffff', '#f8e16c', '#fed811', '#fdc100'])\n",
        "\n",
        "for autotext in autotexts:\n",
        "    autotext.set_color('#1c2541')\n",
        "    autotext.set_weight('bold')\n",
        "\n",
        "axes[1].axis('off')"
      ]
    },
    {
      "cell_type": "code",
      "execution_count": null,
      "id": "7a32b488",
      "metadata": {
        "id": "7a32b488"
      },
      "outputs": [],
      "source": [
        "sns.displot(data=df, x='release_date', kind='hist', kde=True,\n",
        "            color='#fdc100', facecolor='#06837f', edgecolor='#64b6ac', line_kws={'lw': 3}, aspect=3)\n",
        "plt.title('Total Released Movie by Date', fontsize=18, weight=600, color='#333d29')"
      ]
    },
    {
      "cell_type": "code",
      "execution_count": null,
      "id": "29828ef7",
      "metadata": {
        "id": "29828ef7"
      },
      "outputs": [],
      "source": [
        "sns.relplot(data=df, x='vote_average', y='popularity', size='vote_count',\n",
        "            sizes=(20, 200), alpha=.5, aspect=2, color='#06837f')\n",
        "plt.title('The Relationship Between Rating and Popularity', fontsize=15, weight=600, color='#333d29')"
      ]
    },
    {
      "cell_type": "code",
      "execution_count": null,
      "id": "86d52dcc",
      "metadata": {
        "id": "86d52dcc"
      },
      "outputs": [],
      "source": [
        "df_plot = pd.DataFrame(Counter(genres_list).most_common(5), columns=['genre', 'total'])\n",
        "df_plot = df[df['genres'].isin(df_plot['genre'].to_numpy())]\n",
        "\n",
        "fig, axes = plt.subplots(nrows=2, ncols=2, figsize=(10,6))\n",
        "\n",
        "plt.suptitle('Data Distribution Across Top 5 Genres', fontsize=18, weight=600, color='#333d29')\n",
        "for i, y in enumerate(['runtime', 'popularity', 'budget', 'revenue']):\n",
        "    sns.stripplot(data=df_plot, x='genres', y=y, ax=axes.flatten()[i], palette=['#06837f', '#02cecb', '#b4ffff', '#f8e16c', '#fed811'])\n",
        "\n",
        "plt.tight_layout()"
      ]
    },
    {
      "cell_type": "code",
      "execution_count": null,
      "id": "dcf6efc0",
      "metadata": {
        "id": "dcf6efc0"
      },
      "outputs": [],
      "source": [
        "plt.figure(figsize=(12,10))\n",
        "plt.title('Correlation of Movie Features\\n', fontsize=18, weight=600, color='#333d29')\n",
        "sns.heatmap(df.corr(), annot=True, cmap=['#004346', '#036666', '#06837f', '#02cecb', '#b4ffff', '#f8e16c', '#fed811', '#fdc100'])"
      ]
    }
  ],
  "metadata": {
    "colab": {
      "provenance": []
    },
    "kernelspec": {
      "display_name": "Python 3 (ipykernel)",
      "language": "python",
      "name": "python3"
    },
    "language_info": {
      "codemirror_mode": {
        "name": "ipython",
        "version": 3
      },
      "file_extension": ".py",
      "mimetype": "text/x-python",
      "name": "python",
      "nbconvert_exporter": "python",
      "pygments_lexer": "ipython3",
      "version": "3.10.9"
    }
  },
  "nbformat": 4,
  "nbformat_minor": 5
}